{
 "cells": [
  {
   "cell_type": "markdown",
   "metadata": {},
   "source": [
    "# Rituals cohorts longevity analysis\n",
    "\n",
    "This Jupyter notebook is aimed to analyze the longevity / degradation of cohorts involved on TACo rituals. This will take as a representative sample cohorts of at least a certain size involved in TACo rituals."
   ]
  },
  {
   "cell_type": "markdown",
   "metadata": {},
   "source": [
    "## Update cohorts\n",
    "\n",
    "The following code will collect all the succesfully completed rituals up to current date from a Dune query and update `rituals.csv` file.\n",
    "\n",
    "To enable this update, it is needed to set `UPDATE` variable to `True`.\n",
    "\n",
    "Note that an Dune's API Key is needed. Check `README.md` file for more info."
   ]
  },
  {
   "cell_type": "code",
   "execution_count": 3,
   "metadata": {},
   "outputs": [
    {
     "name": "stderr",
     "output_type": "stream",
     "text": [
      "2025-01-16 15:11:03,029 INFO dune_client.api.base executing 4577616 on medium cluster\n",
      "2025-01-16 15:11:03,312 INFO dune_client.api.base waiting for query execution 01JHQQ82E9TJ24AN95A592PTKB to complete: ExecutionState.PENDING (queue position: 6)\n",
      "2025-01-16 15:11:04,396 INFO dune_client.api.base waiting for query execution 01JHQQ82E9TJ24AN95A592PTKB to complete: ExecutionState.EXECUTING\n",
      "2025-01-16 15:11:05,477 INFO dune_client.api.base waiting for query execution 01JHQQ82E9TJ24AN95A592PTKB to complete: ExecutionState.EXECUTING\n",
      "2025-01-16 15:11:06,635 INFO dune_client.api.base waiting for query execution 01JHQQ82E9TJ24AN95A592PTKB to complete: ExecutionState.EXECUTING\n",
      "2025-01-16 15:11:07,714 INFO dune_client.api.base waiting for query execution 01JHQQ82E9TJ24AN95A592PTKB to complete: ExecutionState.EXECUTING\n"
     ]
    }
   ],
   "source": [
    "import pandas as pd\n",
    "import dotenv\n",
    "from dune_client.client import DuneClient\n",
    "from dune_client.query import QueryBase\n",
    "\n",
    "# Set to True to update the data from Dune\n",
    "UPDATE = False\n",
    "\n",
    "dotenv.load_dotenv(\".env\")\n",
    "\n",
    "if UPDATE:\n",
    "    dune = DuneClient.from_env()\n",
    "\n",
    "    query = QueryBase(\n",
    "        name=\"Apps Authorization Events\",\n",
    "        query_id=4577616,  # https://dune.com/queries/4577616\n",
    "        params=[],\n",
    "    )\n",
    "\n",
    "    query_results = dune.run_query_dataframe(query=query, performance='medium')\n",
    "    query_results.to_csv('rituals.csv', index=False)"
   ]
  }
 ],
 "metadata": {
  "kernelspec": {
   "display_name": "jupyter",
   "language": "python",
   "name": "python3"
  },
  "language_info": {
   "codemirror_mode": {
    "name": "ipython",
    "version": 3
   },
   "file_extension": ".py",
   "mimetype": "text/x-python",
   "name": "python",
   "nbconvert_exporter": "python",
   "pygments_lexer": "ipython3",
   "version": "3.11.6"
  }
 },
 "nbformat": 4,
 "nbformat_minor": 2
}
